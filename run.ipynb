{
 "cells": [
  {
   "cell_type": "code",
   "execution_count": null,
   "id": "d1e59652-27c4-4bf8-a368-24324d6c09ae",
   "metadata": {},
   "outputs": [
    {
     "name": "stdout",
     "output_type": "stream",
     "text": [
      " * Serving Flask app '__main__'\n",
      " * Debug mode: off\n"
     ]
    },
    {
     "name": "stderr",
     "output_type": "stream",
     "text": [
      "WARNING: This is a development server. Do not use it in a production deployment. Use a production WSGI server instead.\n",
      " * Running on http://127.0.0.1:5000\n",
      "Press CTRL+C to quit\n",
      "127.0.0.1 - - [18/Jan/2024 10:15:02] \"GET / HTTP/1.1\" 200 -\n",
      "127.0.0.1 - - [18/Jan/2024 10:15:09] \"POST /upload_file HTTP/1.1\" 200 -\n",
      "127.0.0.1 - - [18/Jan/2024 10:15:10] \"GET /get_news HTTP/1.1\" 200 -\n",
      "127.0.0.1 - - [18/Jan/2024 10:15:14] \"POST /process_text HTTP/1.1\" 200 -\n"
     ]
    }
   ],
   "source": [
    "# Import necessary libraries\n",
    "from flask import Flask, request, render_template\n",
    "from sklearn.feature_extraction.text import TfidfVectorizer\n",
    "from sklearn.metrics.pairwise import cosine_similarity\n",
    "import numpy as np\n",
    "import re\n",
    "\n",
    "# Create a Flask application\n",
    "app = Flask(__name__, template_folder='.')\n",
    "\n",
    "# Initialize a TfidfVectorizer\n",
    "vectorizer = TfidfVectorizer()\n",
    "\n",
    "# Store the texts in a global variable\n",
    "texts = []\n",
    "\n",
    "# Define the route for the home page\n",
    "@app.route('/')\n",
    "def home():\n",
    "    # Render the HTML template\n",
    "    return render_template('template.html')\n",
    "\n",
    "# Define the route for uploading a file\n",
    "@app.route('/upload_file', methods=['POST'])\n",
    "def upload_file():\n",
    "    # Get the file from the request\n",
    "    file = request.files['file']\n",
    "\n",
    "    # Read the file and split it into lines\n",
    "    global texts\n",
    "    texts = file.read().decode('utf-8').split('\\n')\n",
    "\n",
    "    # Return a success message\n",
    "    return {'status': 'File uploaded successfully'}\n",
    "\n",
    "# Define the route for getting the news\n",
    "@app.route('/get_news', methods=['GET'])\n",
    "def get_news():\n",
    "    # Return the news\n",
    "    global texts\n",
    "    return {'news': texts}\n",
    "\n",
    "# Define the route for processing the text\n",
    "@app.route('/process_text', methods=['POST'])\n",
    "def process_text():\n",
    "    # Get the selected article index from the request\n",
    "    selected_article_index = int(request.get_json()['selected_article_index'])\n",
    "\n",
    "    # Convert the texts to a TF-IDF matrix\n",
    "    global texts\n",
    "    tfidf_matrix = vectorizer.fit_transform(texts)\n",
    "\n",
    "    # Compute the cosine similarities between the selected article and all articles\n",
    "    cosine_similarities = cosine_similarity(tfidf_matrix[selected_article_index:selected_article_index+1], tfidf_matrix).flatten()\n",
    "\n",
    "    # Set the similarity of the selected article to -1 so it won't be recommended\n",
    "    cosine_similarities[selected_article_index] = -1\n",
    "\n",
    "    # Find the index of the most similar article\n",
    "    related_docs_indices = cosine_similarities.argsort()[:-2:-1]\n",
    "\n",
    "    # Get the recommended article\n",
    "    recommended_article = texts[related_docs_indices[0]]\n",
    "\n",
    "    # Return the selected and recommended articles\n",
    "    return {'selected_article': texts[selected_article_index], 'recommended_article': recommended_article}\n",
    "\n",
    "# Run the Flask application\n",
    "if __name__ == '__main__':\n",
    "    app.run(port=5000)\n"
   ]
  },
  {
   "cell_type": "code",
   "execution_count": null,
   "id": "ee5c8abf-5080-4200-88ea-409188bfc97d",
   "metadata": {},
   "outputs": [],
   "source": []
  }
 ],
 "metadata": {
  "kernelspec": {
   "display_name": "Python 3 (ipykernel)",
   "language": "python",
   "name": "python3"
  },
  "language_info": {
   "codemirror_mode": {
    "name": "ipython",
    "version": 3
   },
   "file_extension": ".py",
   "mimetype": "text/x-python",
   "name": "python",
   "nbconvert_exporter": "python",
   "pygments_lexer": "ipython3",
   "version": "3.10.7"
  }
 },
 "nbformat": 4,
 "nbformat_minor": 5
}
